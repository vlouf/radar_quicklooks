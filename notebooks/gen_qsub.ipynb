{
 "cells": [
  {
   "cell_type": "code",
   "execution_count": null,
   "metadata": {
    "ExecuteTime": {
     "end_time": "2020-05-30T06:19:25.208137Z",
     "start_time": "2020-05-30T06:19:25.205761Z"
    }
   },
   "outputs": [],
   "source": [
    "import glob\n",
    "import pandas as pd"
   ]
  },
  {
   "cell_type": "code",
   "execution_count": null,
   "metadata": {
    "ExecuteTime": {
     "end_time": "2020-05-30T06:19:25.504540Z",
     "start_time": "2020-05-30T06:19:25.209448Z"
    }
   },
   "outputs": [],
   "source": [
    "indirs = sorted(glob.glob('/scratch/kl02/vhl548/cpol_level_1b/v2020/ppi/**/**/'))\n",
    "dlist = [pd.to_datetime(d[-9:-1]) for d in indirs]\n",
    "drange = pd.DatetimeIndex(dlist).to_period(freq='1y').unique()"
   ]
  },
  {
   "cell_type": "code",
   "execution_count": null,
   "metadata": {
    "ExecuteTime": {
     "end_time": "2020-05-30T06:19:25.526107Z",
     "start_time": "2020-05-30T06:19:25.517242Z"
    }
   },
   "outputs": [],
   "source": [
    "def get_pbs(sdate, edate):\n",
    "    txt = f'''#!/bin/bash\n",
    "#PBS -P kl02\n",
    "#PBS -q normal\n",
    "#PBS -l walltime=4:00:00\n",
    "#PBS -l mem=128GB\n",
    "#PBS -l wd\n",
    "#PBS -l jobfs=1GB\n",
    "#PBS -l ncpus=16\n",
    "#PBS -lstorage=scratch/hj10+gdata/hj10+scratch/kl02+gdata/kl02\n",
    "source activate radar\n",
    "\n",
    "python radar_pack.py -s {sdate} -e {edate} -o /scratch/kl02/vhl548/cpol_level_1b/v2020/quicklooks -i /scratch/kl02/vhl548/cpol_level_1b/v2020/ppi/\n",
    "'''\n",
    "    return txt"
   ]
  },
  {
   "cell_type": "code",
   "execution_count": null,
   "metadata": {
    "ExecuteTime": {
     "end_time": "2020-05-30T06:48:20.883883Z",
     "start_time": "2020-05-30T06:48:20.858636Z"
    }
   },
   "outputs": [],
   "source": [
    "for a, b in [(d.strftime('%Y01') + '01', d.strftime('%Y%m%d')) for d in drange]:\n",
    "    t = get_pbs(a, b)\n",
    "    fname = f'qrfigs_{a[:-4]}.pbs'\n",
    "    \n",
    "    with open(fname, 'w+') as fid:\n",
    "        fid.write(t)"
   ]
  },
  {
   "cell_type": "code",
   "execution_count": null,
   "metadata": {},
   "outputs": [],
   "source": []
  }
 ],
 "metadata": {
  "kernelspec": {
   "display_name": "Python 3",
   "language": "python",
   "name": "python3"
  },
  "language_info": {
   "codemirror_mode": {
    "name": "ipython",
    "version": 3
   },
   "file_extension": ".py",
   "mimetype": "text/x-python",
   "name": "python",
   "nbconvert_exporter": "python",
   "pygments_lexer": "ipython3",
   "version": "3.8.3"
  },
  "varInspector": {
   "cols": {
    "lenName": 16,
    "lenType": 16,
    "lenVar": 40
   },
   "kernels_config": {
    "python": {
     "delete_cmd_postfix": "",
     "delete_cmd_prefix": "del ",
     "library": "var_list.py",
     "varRefreshCmd": "print(var_dic_list())"
    },
    "r": {
     "delete_cmd_postfix": ") ",
     "delete_cmd_prefix": "rm(",
     "library": "var_list.r",
     "varRefreshCmd": "cat(var_dic_list()) "
    }
   },
   "types_to_exclude": [
    "module",
    "function",
    "builtin_function_or_method",
    "instance",
    "_Feature"
   ],
   "window_display": false
  }
 },
 "nbformat": 4,
 "nbformat_minor": 4
}
